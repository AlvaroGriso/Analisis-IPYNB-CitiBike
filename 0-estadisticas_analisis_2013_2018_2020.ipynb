{
 "cells": [
  {
   "cell_type": "code",
   "execution_count": 1,
   "metadata": {},
   "outputs": [],
   "source": [
    "#Librerías\n",
    "import pandas as pd\n",
    "import numpy as np\n",
    "import scipy.stats as stats"
   ]
  },
  {
   "cell_type": "code",
   "execution_count": 13,
   "metadata": {},
   "outputs": [],
   "source": [
    "#Lecturas de los análisis de los años\n",
    "df_2013 = pd.read_csv(\"analisis_2013.csv\", sep=\";\", low_memory=False)\n",
    "df_2018 = pd.read_csv(\"analisis_2018.csv\", sep=\";\", low_memory=False)\n",
    "df_2020 = pd.read_csv(\"analisis_2020.csv\", sep=\";\", low_memory=False)"
   ]
  },
  {
   "cell_type": "code",
   "execution_count": 3,
   "metadata": {},
   "outputs": [],
   "source": [
    "#Creación de listas para recorrerlas\n",
    "lista_analisis = [df_2013,df_2018,df_2020]\n",
    "lista_nombres = ['2013','2018','2020']"
   ]
  },
  {
   "cell_type": "code",
   "execution_count": 4,
   "metadata": {},
   "outputs": [
    {
     "name": "stdout",
     "output_type": "stream",
     "text": [
      "Media de duración de los viajes del año  2013 es:  15.625532391147729\n",
      "Mediana de duración de los viajes del año  2013 es:  11.1\n",
      "Moda de duración de los viajes del año  2013 es:  0    6.133333\n",
      "Name: tripduration, dtype: float64\n",
      "Máxima de duración de los viajes del año (minutos) 2013 es:  104179.16666666666\n",
      "Mínima de duración de los viajes del año (minutos) 2013 es:  1.0\n",
      "Desviacón típica de duración de los viajes del año  2013 es:  77.35398211559819\n",
      "=============================================================================\n",
      "Media de duración de los viajes del año  2018 es:  16.505728969235843\n",
      "Mediana de duración de los viajes del año  2018 es:  10.083333333333332\n",
      "Moda de duración de los viajes del año  2018 es:  0    5.316667\n",
      "Name: tripduration, dtype: float64\n",
      "Máxima de duración de los viajes del año (minutos) 2018 es:  325167.48333333334\n",
      "Mínima de duración de los viajes del año (minutos) 2018 es:  1.0166666666666666\n",
      "Desviacón típica de duración de los viajes del año  2018 es:  335.89327456553485\n",
      "=============================================================================\n",
      "Media de duración de los viajes del año  2020 es:  21.897009242972494\n",
      "Mediana de duración de los viajes del año  2020 es:  13.000000000000002\n",
      "Moda de duración de los viajes del año  2020 es:  0    6.233333\n",
      "Name: tripduration, dtype: float64\n",
      "Máxima de duración de los viajes del año (minutos) 2020 es:  63103.11666666667\n",
      "Mínima de duración de los viajes del año (minutos) 2020 es:  1.0166666666666666\n",
      "Desviacón típica de duración de los viajes del año  2020 es:  238.72855443406365\n",
      "=============================================================================\n"
     ]
    }
   ],
   "source": [
    "#Medidas antes de la limpieza\n",
    "count = 0\n",
    "for file in lista_analisis:\n",
    "    media = file[\"tripduration\"].mean()\n",
    "    mediana = file[\"tripduration\"].median()\n",
    "    moda = file[\"tripduration\"].mode()\n",
    "    max = file[\"tripduration\"].max()\n",
    "    min = file[\"tripduration\"].min()\n",
    "    std = file[\"tripduration\"].std()\n",
    "    std = file[\"tripduration\"].std(ddof=0)\n",
    "\n",
    "    if count == 0:\n",
    "        nombre = lista_nombres[0]\n",
    "    elif count == 1:\n",
    "        nombre = lista_nombres[1]\n",
    "    elif count == 2:\n",
    "        nombre = lista_nombres[2]        \n",
    "    else:\n",
    "        print('no hay archivo que procesar') \n",
    "    count+=1\n",
    "    print('Media de duración de los viajes del año ',nombre,'es: ',media)\n",
    "    print('Mediana de duración de los viajes del año ',nombre,'es: ', mediana)\n",
    "    print('Moda de duración de los viajes del año ',nombre,'es: ', moda)\n",
    "    print('Máxima de duración de los viajes del año (minutos)',nombre,'es: ', max)\n",
    "    print('Mínima de duración de los viajes del año (minutos)',nombre,'es: ', min)\n",
    "    print('Desviacón típica de duración de los viajes del año ',nombre,'es: ', std)\n",
    "    print('=============================================================================')"
   ]
  },
  {
   "cell_type": "code",
   "execution_count": 5,
   "metadata": {},
   "outputs": [
    {
     "data": {
      "text/html": [
       "<div>\n",
       "<style scoped>\n",
       "    .dataframe tbody tr th:only-of-type {\n",
       "        vertical-align: middle;\n",
       "    }\n",
       "\n",
       "    .dataframe tbody tr th {\n",
       "        vertical-align: top;\n",
       "    }\n",
       "\n",
       "    .dataframe thead th {\n",
       "        text-align: right;\n",
       "    }\n",
       "</style>\n",
       "<table border=\"1\" class=\"dataframe\">\n",
       "  <thead>\n",
       "    <tr style=\"text-align: right;\">\n",
       "      <th></th>\n",
       "      <th>tripduration</th>\n",
       "      <th>starttime</th>\n",
       "      <th>stoptime</th>\n",
       "      <th>start station id</th>\n",
       "      <th>start station name</th>\n",
       "      <th>start station latitude</th>\n",
       "      <th>start station longitude</th>\n",
       "      <th>end station id</th>\n",
       "      <th>end station name</th>\n",
       "      <th>end station latitude</th>\n",
       "      <th>end station longitude</th>\n",
       "      <th>bikeid</th>\n",
       "      <th>usertype</th>\n",
       "      <th>birth year</th>\n",
       "      <th>gender</th>\n",
       "    </tr>\n",
       "  </thead>\n",
       "  <tbody>\n",
       "    <tr>\n",
       "      <th>1279069</th>\n",
       "      <td>104179.166667</td>\n",
       "      <td>2013-07-08 16:51:40</td>\n",
       "      <td>2013-09-19 01:10:53</td>\n",
       "      <td>151</td>\n",
       "      <td>Cleveland Pl &amp; Spring St</td>\n",
       "      <td>40.721816</td>\n",
       "      <td>-73.997203</td>\n",
       "      <td>501.0</td>\n",
       "      <td>FDR Drive &amp; E 35 St</td>\n",
       "      <td>40.744219</td>\n",
       "      <td>-73.971212</td>\n",
       "      <td>16808</td>\n",
       "      <td>Customer</td>\n",
       "      <td>\\N</td>\n",
       "      <td>0</td>\n",
       "    </tr>\n",
       "  </tbody>\n",
       "</table>\n",
       "</div>"
      ],
      "text/plain": [
       "          tripduration            starttime             stoptime  \\\n",
       "1279069  104179.166667  2013-07-08 16:51:40  2013-09-19 01:10:53   \n",
       "\n",
       "         start station id        start station name  start station latitude  \\\n",
       "1279069               151  Cleveland Pl & Spring St               40.721816   \n",
       "\n",
       "         start station longitude  end station id     end station name  \\\n",
       "1279069               -73.997203           501.0  FDR Drive & E 35 St   \n",
       "\n",
       "         end station latitude  end station longitude  bikeid  usertype  \\\n",
       "1279069             40.744219             -73.971212   16808  Customer   \n",
       "\n",
       "        birth year  gender  \n",
       "1279069         \\N       0  "
      ]
     },
     "execution_count": 5,
     "metadata": {},
     "output_type": "execute_result"
    }
   ],
   "source": [
    "df_2013[df_2013.tripduration > 90178]"
   ]
  },
  {
   "cell_type": "code",
   "execution_count": 6,
   "metadata": {},
   "outputs": [
    {
     "name": "stdout",
     "output_type": "stream",
     "text": [
      "La dimensión de los datos del año 2013 es:  (5614888, 15)\n",
      "---------------------------------------------------------\n",
      "La dimensión de los datos del año 2018 es:  (8774170, 15)\n",
      "---------------------------------------------------------\n",
      "La dimensión de los datos del año 2020 es:  (9753428, 15)\n",
      "---------------------------------------------------------\n"
     ]
    }
   ],
   "source": [
    "#Dimensiones antes de la limpieza\n",
    "count=0\n",
    "for file_shape in lista_analisis:\n",
    "    if count == 0:\n",
    "        nombre = lista_nombres[0]\n",
    "    elif count == 1:\n",
    "        nombre = lista_nombres[1]\n",
    "    elif count == 2:\n",
    "        nombre = lista_nombres[2]        \n",
    "    else:\n",
    "        print('no hay archivo que procesar') \n",
    "    count+=1\n",
    "    print('La dimensión de los datos del año',nombre,'es: ',file_shape.shape)\n",
    "    print('---------------------------------------------------------')"
   ]
  },
  {
   "cell_type": "code",
   "execution_count": 7,
   "metadata": {},
   "outputs": [],
   "source": [
    "#Creación de nuevas listas para no modificar los datos originales\n",
    "df_2013_clean = df_2013\n",
    "df_2018_clean = df_2018\n",
    "df_2020_clean = df_2020\n",
    "\n",
    "lista_analisis_clean = [df_2013_clean,df_2018_clean,df_2020_clean]\n",
    "lista_nombres_clean = ['2013','2018','2020']"
   ]
  },
  {
   "cell_type": "code",
   "execution_count": 8,
   "metadata": {},
   "outputs": [
    {
     "name": "stdout",
     "output_type": "stream",
     "text": [
      "la dimensión de la duración de viajes del año 2013 después del filtrado es de:  (5607946, 15)\n",
      "la dimensión de la duración de viajes del año 2018 después del filtrado es de:  (8766391, 15)\n",
      "la dimensión de la duración de viajes del año 2020 después del filtrado es de:  (9738360, 15)\n"
     ]
    }
   ],
   "source": [
    "#Borrado de datos y dimensión final\n",
    "count_clean = 0\n",
    "for file2 in lista_analisis_clean:\n",
    "    if count_clean == 0:\n",
    "        nombre = lista_nombres[0]\n",
    "        #300 porque la duración aproximada de la bateria es de 30 millas y la bicicleta consume una media 12 millas / hora, dejando algo de margen situamos el valor en 300\n",
    "        final_2013 = file2.drop(file2[file2['tripduration']>300].index) \n",
    "        print('la dimensión de la duración de viajes del año',nombre,'después del filtrado es de: ',final_2013.shape)\n",
    "    elif count_clean == 1:\n",
    "        nombre = lista_nombres[1]\n",
    "        final_2018 = file2.drop(file2[file2['tripduration']>300].index) \n",
    "        print('la dimensión de la duración de viajes del año',nombre,'después del filtrado es de: ',final_2018.shape)\n",
    "    elif count_clean == 2:\n",
    "        nombre = lista_nombres[2]\n",
    "        final_2020 = file2.drop(file2[file2['tripduration']>300].index) \n",
    "        print('la dimensión de la duración de viajes del año',nombre,'después del filtrado es de: ',final_2020.shape)      \n",
    "    else:\n",
    "        print('no hay archivo que procesar') \n",
    "    count_clean+=1\n",
    "    "
   ]
  },
  {
   "cell_type": "code",
   "execution_count": 9,
   "metadata": {},
   "outputs": [],
   "source": [
    "#Lista final con los datos limpios\n",
    "lista_final = [final_2013,final_2018,final_2020]"
   ]
  },
  {
   "cell_type": "code",
   "execution_count": 10,
   "metadata": {},
   "outputs": [
    {
     "name": "stdout",
     "output_type": "stream",
     "text": [
      "Media de duración de los viajes del año  2013 es:  14.561810503643693\n",
      "Mediana de duración de los viajes del año  2013 es:  11.1\n",
      "Moda de duración de los viajes del año  2013 es:  0    6.133333\n",
      "Name: tripduration, dtype: float64\n",
      "Máxima de duración de los viajes del año  2013 es:  299.9833333333333\n",
      "Mínima de duración de los viajes del año  2013 es:  1.0\n",
      "Desviacón típica de duración de los viajes del año  2013 es:  14.180048594533915\n",
      "=============================================================================\n",
      "Media de duración de los viajes del año  2018 es:  13.746906898935562\n",
      "Mediana de duración de los viajes del año  2018 es:  10.083333333333332\n",
      "Moda de duración de los viajes del año  2018 es:  0    5.316667\n",
      "Name: tripduration, dtype: float64\n",
      "Máxima de duración de los viajes del año  2018 es:  299.85\n",
      "Mínima de duración de los viajes del año  2018 es:  1.0166666666666666\n",
      "Desviacón típica de duración de los viajes del año  2018 es:  13.493185340543242\n",
      "=============================================================================\n",
      "Media de duración de los viajes del año  2020 es:  17.75234097253884\n",
      "Mediana de duración de los viajes del año  2020 es:  12.966666666666669\n",
      "Moda de duración de los viajes del año  2020 es:  0    6.233333\n",
      "Name: tripduration, dtype: float64\n",
      "Máxima de duración de los viajes del año  2020 es:  299.93333333333334\n",
      "Mínima de duración de los viajes del año  2020 es:  1.0166666666666666\n",
      "Desviacón típica de duración de los viajes del año  2020 es:  17.906518024448935\n",
      "=============================================================================\n"
     ]
    }
   ],
   "source": [
    "#Medidas finales, después de la limpieza\n",
    "count = 0\n",
    "for file in lista_final:\n",
    "    media = file[\"tripduration\"].mean()\n",
    "    mediana = file[\"tripduration\"].median()\n",
    "    moda = file[\"tripduration\"].mode()\n",
    "    max = file[\"tripduration\"].max()\n",
    "    min = file[\"tripduration\"].min()\n",
    "    std = file[\"tripduration\"].std()\n",
    "    std = file[\"tripduration\"].std(ddof=0)\n",
    "\n",
    "    if count == 0:\n",
    "        nombre = lista_nombres[0]\n",
    "    elif count == 1:\n",
    "        nombre = lista_nombres[1]\n",
    "    elif count == 2:\n",
    "        nombre = lista_nombres[2]        \n",
    "    else:\n",
    "        print('no hay archivo que procesar') \n",
    "    count+=1\n",
    "    print('Media de duración de los viajes del año ',nombre,'es: ',media)\n",
    "    print('Mediana de duración de los viajes del año ',nombre,'es: ', mediana)\n",
    "    print('Moda de duración de los viajes del año ',nombre,'es: ', moda)\n",
    "    print('Máxima de duración de los viajes del año ',nombre,'es: ', max)\n",
    "    print('Mínima de duración de los viajes del año ',nombre,'es: ', min)\n",
    "    print('Desviacón típica de duración de los viajes del año ',nombre,'es: ', std)\n",
    "    print('=============================================================================')"
   ]
  }
 ],
 "metadata": {
  "kernelspec": {
   "display_name": "Python 3.10.4 64-bit",
   "language": "python",
   "name": "python3"
  },
  "language_info": {
   "codemirror_mode": {
    "name": "ipython",
    "version": 3
   },
   "file_extension": ".py",
   "mimetype": "text/x-python",
   "name": "python",
   "nbconvert_exporter": "python",
   "pygments_lexer": "ipython3",
   "version": "3.10.4"
  },
  "orig_nbformat": 4,
  "vscode": {
   "interpreter": {
    "hash": "9c660e80196b8399ba6d44a9c60e3cc44ab814d5b6556fae90f8a4a88dfac490"
   }
  }
 },
 "nbformat": 4,
 "nbformat_minor": 2
}
